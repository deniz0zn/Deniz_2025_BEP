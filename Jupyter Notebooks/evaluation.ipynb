{
 "cells": [
  {
   "cell_type": "code",
   "execution_count": 58,
   "id": "initial_id",
   "metadata": {
    "collapsed": true,
    "ExecuteTime": {
     "end_time": "2025-01-16T22:02:41.610003400Z",
     "start_time": "2025-01-16T22:02:41.604391300Z"
    }
   },
   "outputs": [],
   "source": [
    "import pandas as pd\n",
    "import numpy as np\n",
    "import random\n",
    "from config import __RANDOM_SEED__, sample_size\n",
    "frequency = \"weekly\"\n",
    "initial_months = 1\n",
    "random.seed(__RANDOM_SEED__)"
   ]
  },
  {
   "cell_type": "code",
   "execution_count": 67,
   "outputs": [
    {
     "name": "stdout",
     "output_type": "stream",
     "text": [
      "final_status\n",
      "COMPLETE      0.71\n",
      "INCOMPLETE    0.21\n",
      "ONGOING       0.08\n",
      "Name: proportion, dtype: float64\n"
     ]
    }
   ],
   "source": [
    "df = pd.read_csv(f'../Dataset/Hospital Billing Delta Logs/cases_output/cases_output_{frequency}_({initial_months}).csv')\n",
    "\n",
    "proportions = df['final_status'].value_counts(normalize=True)\n",
    "sample_proportions = (proportions * sample_size).round().astype(int)\n",
    "\n",
    "sampled_df = pd.concat(\n",
    "    [df[df['final_status'] == status].sample(n=size, random_state=42) \n",
    "     for status, size in sample_proportions.items()]\n",
    ")\n",
    "print(sampled_df['final_status'].value_counts(normalize=True))"
   ],
   "metadata": {
    "collapsed": false,
    "ExecuteTime": {
     "end_time": "2025-01-16T22:31:14.087853Z",
     "start_time": "2025-01-16T22:31:13.314275300Z"
    }
   },
   "id": "2480200688fcbcdc"
  },
  {
   "cell_type": "code",
   "execution_count": 68,
   "outputs": [],
   "source": [
    "sampled_df = sampled_df[[\"case_id\", \"cancelled\", \"trace\", \"last_state\", \"final_status\"]]\n",
    "sampled_df[\"manual_label\"] = np.nan \n",
    "sampled_df.to_excel(\"../Dataset/excel/Hospital Billing Sampled Traces.xlsx\")"
   ],
   "metadata": {
    "collapsed": false,
    "ExecuteTime": {
     "end_time": "2025-01-16T22:31:15.536772500Z",
     "start_time": "2025-01-16T22:31:15.477389Z"
    }
   },
   "id": "3ab0211e455e1257"
  },
  {
   "cell_type": "code",
   "execution_count": 79,
   "outputs": [
    {
     "name": "stdout",
     "output_type": "stream",
     "text": [
      "Accuracy: 92.00%\n",
      "Confusion Matrix:\n",
      "[[71  0  0]\n",
      " [ 0 21  8]\n",
      " [ 0  0  0]]\n",
      "Classification Report:\n",
      "              precision    recall  f1-score   support\n",
      "\n",
      "    COMPLETE       1.00      1.00      1.00        71\n",
      "  INCOMPLETE       1.00      0.72      0.84        29\n",
      "     ONGOING       0.00      0.00      0.00         0\n",
      "\n",
      "    accuracy                           0.92       100\n",
      "   macro avg       0.67      0.57      0.61       100\n",
      "weighted avg       1.00      0.92      0.95       100\n"
     ]
    },
    {
     "name": "stderr",
     "output_type": "stream",
     "text": [
      "C:\\Users\\ozndn\\PycharmProjects\\1734970_BEP_Project\\.venv\\Lib\\site-packages\\sklearn\\metrics\\_classification.py:1565: UndefinedMetricWarning: Recall is ill-defined and being set to 0.0 in labels with no true samples. Use `zero_division` parameter to control this behavior.\n",
      "  _warn_prf(average, modifier, f\"{metric.capitalize()} is\", len(result))\n",
      "C:\\Users\\ozndn\\PycharmProjects\\1734970_BEP_Project\\.venv\\Lib\\site-packages\\sklearn\\metrics\\_classification.py:1565: UndefinedMetricWarning: Recall is ill-defined and being set to 0.0 in labels with no true samples. Use `zero_division` parameter to control this behavior.\n",
      "  _warn_prf(average, modifier, f\"{metric.capitalize()} is\", len(result))\n",
      "C:\\Users\\ozndn\\PycharmProjects\\1734970_BEP_Project\\.venv\\Lib\\site-packages\\sklearn\\metrics\\_classification.py:1565: UndefinedMetricWarning: Recall is ill-defined and being set to 0.0 in labels with no true samples. Use `zero_division` parameter to control this behavior.\n",
      "  _warn_prf(average, modifier, f\"{metric.capitalize()} is\", len(result))\n"
     ]
    },
    {
     "data": {
      "text/plain": "<Figure size 640x480 with 2 Axes>",
      "image/png": "[encoded data removed]"
     },
     "metadata": {},
     "output_type": "display_data"
    }
   ],
   "source": [
    "from sklearn.metrics import confusion_matrix, accuracy_score, ConfusionMatrixDisplay, classification_report\n",
    "import matplotlib.pyplot as plt\n",
    "\n",
    "labelled_df = pd.read_excel(\"../Dataset/excel/Hospital Billing Sampled Traces LABELLED.xlsx\")\n",
    "y_true = labelled_df['manual_label']  \n",
    "y_pred = labelled_df['final_status']  \n",
    "\n",
    "accuracy = accuracy_score(y_true, y_pred)\n",
    "print(f\"Accuracy: {accuracy * 100:.2f}%\")\n",
    "\n",
    "cm = confusion_matrix(y_true, y_pred, labels=[\"COMPLETE\", \"INCOMPLETE\", \"ONGOING\"])\n",
    "print(\"Confusion Matrix:\")\n",
    "print(cm)\n",
    "\n",
    "disp = ConfusionMatrixDisplay(confusion_matrix=cm, display_labels=[\"COMPLETE\", \"INCOMPLETE\", \"ONGOING\"])\n",
    "disp.plot(cmap=plt.cm.Blues)\n",
    "\n",
    "\n",
    "report = classification_report(y_true, y_pred, labels=[\"COMPLETE\", \"INCOMPLETE\", \"ONGOING\"])\n",
    "print(\"Classification Report:\")\n",
    "print(report)"
   ],
   "metadata": {
    "collapsed": false,
    "ExecuteTime": {
     "end_time": "2025-01-17T01:43:02.649345800Z",
     "start_time": "2025-01-17T01:43:02.267061900Z"
    }
   },
   "id": "335b53f779461d55"
  },
  {
   "cell_type": "code",
   "execution_count": 75,
   "outputs": [],
   "source": [
    "# event_log = pd.read_csv(f'../Dataset/csv/Hospital Billing - Event Log.csv')\n",
    "# \n",
    "# sampled_event = event_log[event_log[\"case\"].isin(sampled_df[\"case_id\"])][[\"case\",\"event\", \"state\"]]\n",
    "# sampled_event[\"manual_class\"] = np.nan \n",
    "# print(f\"Number of sampled cases: {len(sampled_event[\"case\"].unique())}\")"
   ],
   "metadata": {
    "collapsed": false,
    "ExecuteTime": {
     "end_time": "2025-01-16T22:49:18.963575300Z",
     "start_time": "2025-01-16T22:49:18.946917600Z"
    }
   },
   "id": "ba13c8af15b33a37"
  },
  {
   "cell_type": "markdown",
   "source": [],
   "metadata": {
    "collapsed": false
   },
   "id": "99ab884eebd963d0"
  }
 ],
 "metadata": {
  "kernelspec": {
   "display_name": "Python 3",
   "language": "python",
   "name": "python3"
  },
  "language_info": {
   "codemirror_mode": {
    "name": "ipython",
    "version": 2
   },
   "file_extension": ".py",
   "mimetype": "text/x-python",
   "name": "python",
   "nbconvert_exporter": "python",
   "pygments_lexer": "ipython2",
   "version": "2.7.6"
  }
 },
 "nbformat": 4,
 "nbformat_minor": 5
}
